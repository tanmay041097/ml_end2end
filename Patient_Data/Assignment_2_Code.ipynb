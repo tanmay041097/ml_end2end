{
 "cells": [
  {
   "cell_type": "code",
   "execution_count": 14,
   "metadata": {},
   "outputs": [
    {
     "name": "stdout",
     "output_type": "stream",
     "text": [
      "[[76.0 126.0 38.0]\n",
      " [74.0 120.0 38.0]\n",
      " [72.0 118.0 37.5]\n",
      " [78.0 136.0 37.0]]\n"
     ]
    }
   ],
   "source": [
    "import numpy as np\n",
    "patient_data = np.array([[76,126,38],\n",
    "                [74,120,38],\n",
    "                [72,118,37.5],\n",
    "                [78,136,37]])\n",
    "patient_data = np.array(patient_data,dtype=object)\n",
    "\n",
    "print(patient_data)\n",
    "\n"
   ]
  },
  {
   "cell_type": "code",
   "execution_count": 15,
   "metadata": {},
   "outputs": [
    {
     "name": "stdout",
     "output_type": "stream",
     "text": [
      "[75.0 125.0 37.625]\n",
      "[1.0 1.0 0.375]\n",
      "[-1.0 -5.0 0.375]\n",
      "[-3.0 -7.0 -0.125]\n",
      "[3.0 11.0 -0.625]\n",
      "[[[1.0 1.0 0.375]]\n",
      "\n",
      " [[-1.0 -5.0 0.375]]\n",
      "\n",
      " [[-3.0 -7.0 -0.125]]\n",
      "\n",
      " [[3.0 11.0 -0.625]]]\n"
     ]
    }
   ],
   "source": [
    "sum_of_patient = np.sum(patient_data, axis=0)\n",
    "avg_patient = (sum_of_patient)/4\n",
    "print(avg_patient)\n",
    "vector_1 = patient_data[0] - avg_patient\n",
    "print(vector_1)\n",
    "vector_2 = patient_data[1] - avg_patient\n",
    "print(vector_2)\n",
    "vector_3 = patient_data[2] - avg_patient\n",
    "print(vector_3)\n",
    "vector_4 = patient_data[3] - avg_patient\n",
    "print(vector_4)\n",
    "avg_vector = np.array([[vector_1],\n",
    "              [vector_2],\n",
    "              [vector_3],\n",
    "              [vector_4]])\n",
    "print(avg_vector)\n",
    "\n",
    "\n",
    "\n"
   ]
  },
  {
   "cell_type": "code",
   "execution_count": 16,
   "metadata": {},
   "outputs": [
    {
     "name": "stdout",
     "output_type": "stream",
     "text": [
      "The farthest patient is patient number = 3\n",
      "The nearest patient is =  1\n"
     ]
    }
   ],
   "source": [
    "def euclidean_distance(p1,p2):\n",
    "    return np.sqrt(np.sum(p1 -p2 )**2)\n",
    "num_avg_vector = avg_vector.shape[0]\n",
    "farthest_patient = None\n",
    "max_distance = -1\n",
    "for i in range (num_avg_vector):\n",
    "    distance_sum = np.sum([euclidean_distance(avg_vector[i],avg_vector[j]) for j in range( num_avg_vector) if i!=j])\n",
    "    if distance_sum > max_distance:\n",
    "        max_distance = distance_sum\n",
    "        farthest_patient = i\n",
    "print(\"The farthest patient is patient number =\",farthest_patient)\n",
    "nearest_patient = None\n",
    "min_distance = float(\"inf\")\n",
    "for i in range (num_avg_vector):\n",
    "    for j in range (i + 1 , num_avg_vector):\n",
    "        distance = euclidean_distance(avg_vector[i],avg_vector[j])\n",
    "        if distance < min_distance:\n",
    "            min_distance = distance\n",
    "            nearest_patient = i\n",
    "print(\"The nearest patient is = \" ,nearest_patient)\n",
    "\n",
    "        \n"
   ]
  },
  {
   "cell_type": "markdown",
   "metadata": {},
   "source": []
  },
  {
   "cell_type": "code",
   "execution_count": 29,
   "metadata": {},
   "outputs": [
    {
     "name": "stdout",
     "output_type": "stream",
     "text": [
      "[[76.0 126.0 38.0]\n",
      " [74.0 120.0 38.0]\n",
      " [72.0 118.0 37.5]\n",
      " [78.0 136.0 37.0]\n",
      " [78.0 138.0 38.0]]\n"
     ]
    }
   ],
   "source": [
    "dummy_patient = np.array([[78,138,38.0]])\n",
    "patient_data_new = np.append(patient_data, dummy_patient,axis=0)\n",
    "print(patient_data_new)"
   ]
  },
  {
   "cell_type": "code",
   "execution_count": 32,
   "metadata": {},
   "outputs": [
    {
     "name": "stdout",
     "output_type": "stream",
     "text": [
      "[75.0 125.0 37.625]\n",
      "[[[1.0 1.0 0.375]]\n",
      "\n",
      " [[-1.0 -5.0 0.375]]\n",
      "\n",
      " [[-3.0 -7.0 -0.125]]\n",
      "\n",
      " [[3.0 11.0 -0.625]]]\n"
     ]
    }
   ],
   "source": [
    "avg_patient_new = (np.sum(patient_data , axis=0))/4\n",
    "print(avg_patient_new)\n",
    "vector_1_new = patient_data_new[0] - avg_patient_new\n",
    "vector_2_new = patient_data_new[1] - avg_patient_new\n",
    "vector_3_new = patient_data_new[2] - avg_patient_new\n",
    "vector_4_new = patient_data_new[3] - avg_patient_new\n",
    "vector_5_new = patient_data_new[4] - avg_patient_new\n",
    "avg_vector_new = np.array([[vector_1_new],\n",
    "                        [vector_2_new],\n",
    "                        [vector_3_new],\n",
    "                        [vector_4_new],\n",
    "                        [vector_5_new]])\n",
    "print(avg_vector)"
   ]
  },
  {
   "cell_type": "code",
   "execution_count": 33,
   "metadata": {},
   "outputs": [
    {
     "name": "stdout",
     "output_type": "stream",
     "text": [
      "The nearest patient is =  3\n"
     ]
    }
   ],
   "source": [
    "def euclidean_distance(p1,p2):\n",
    "    return np.sqrt(np.sum(p1 -p2 )**2)\n",
    "num_avg_vector = avg_vector_new.shape[0]\n",
    "nearest_patient = None\n",
    "min_distance = float(\"inf\")\n",
    "for i in range (num_avg_vector):\n",
    "    for j in range (i + 1 , num_avg_vector):\n",
    "        distance = euclidean_distance(avg_vector_new[i],avg_vector_new[j])\n",
    "        if distance < min_distance:\n",
    "            min_distance = distance\n",
    "            nearest_patient = i\n",
    "print(\"The nearest patient is = \" ,nearest_patient)"
   ]
  }
 ],
 "metadata": {
  "kernelspec": {
   "display_name": "Python 3",
   "language": "python",
   "name": "python3"
  },
  "language_info": {
   "codemirror_mode": {
    "name": "ipython",
    "version": 3
   },
   "file_extension": ".py",
   "mimetype": "text/x-python",
   "name": "python",
   "nbconvert_exporter": "python",
   "pygments_lexer": "ipython3",
   "version": "3.9.17"
  },
  "orig_nbformat": 4
 },
 "nbformat": 4,
 "nbformat_minor": 2
}
