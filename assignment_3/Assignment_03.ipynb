{
 "cells": [
  {
   "cell_type": "code",
   "execution_count": 6,
   "metadata": {},
   "outputs": [],
   "source": [
    "import pandas as pd\n",
    "import numpy as np"
   ]
  },
  {
   "cell_type": "code",
   "execution_count": 39,
   "metadata": {},
   "outputs": [
    {
     "name": "stdout",
     "output_type": "stream",
     "text": [
      "[[0 0 0 0 1 0 0 0 0 0 0 0 0]\n",
      " [0 1 0 0 0 0 0 0 0 0 0 0 0]\n",
      " [0 0 0 0 0 0 0 1 0 0 0 0 0]\n",
      " [0 0 1 0 0 0 0 0 0 0 0 0 0]\n",
      " [0 0 0 0 0 0 0 0 1 0 0 0 0]\n",
      " [0 0 0 1 0 0 0 0 0 0 0 0 0]\n",
      " [0 0 0 0 0 0 1 0 0 0 0 0 0]\n",
      " [0 0 0 0 0 1 0 0 0 0 0 0 0]\n",
      " [0 0 0 0 0 0 0 0 0 0 1 0 0]\n",
      " [1 0 0 0 0 0 0 0 0 0 0 0 0]\n",
      " [0 0 0 0 0 0 0 0 0 0 0 0 1]\n",
      " [0 0 0 0 0 0 0 0 0 0 0 1 0]\n",
      " [0 0 0 0 0 0 0 0 0 1 0 0 0]]\n",
      "[1. 1. 1. 1. 1. 1. 1. 1. 1. 1. 1. 1. 1.]\n",
      "[1.57079633 1.57079633 1.57079633 1.57079633 1.57079633 1.57079633\n",
      " 1.57079633 1.57079633 1.57079633 1.57079633 1.57079633 1.57079633\n",
      " 1.57079633]\n"
     ]
    }
   ],
   "source": [
    "\n",
    "data = pd.read_csv(\"moviereviews.csv\") \n",
    "movie_reviews = data.pivot_table(index='movie', columns='review', aggfunc='size', fill_value=0)\n",
    "movie_vectors = movie_reviews.to_numpy()\n",
    "print(movie_vectors)\n",
    "dot_product_matrix = np.dot(movie_vectors.T, movie_vectors)\n",
    "norms = np.linalg.norm(movie_vectors, axis=1)\n",
    "print(norms)\n",
    "def angle_between_vectors(vec1, vec2):\n",
    "    dot_product = np.dot(vec1, vec2)\n",
    "    angle = np.arccos(dot_product / (norms[vec1] * norms[vec2]))\n",
    "    return angle\n",
    "print(angle)"
   ]
  },
  {
   "cell_type": "code",
   "execution_count": 33,
   "metadata": {},
   "outputs": [
    {
     "name": "stdout",
     "output_type": "stream",
     "text": [
      "Movies: The Lord of the Rings The Two Towers and Inception, Angle: 1.5707963267948966\n",
      "Movies: The Lord of the Rings The Two Towers and Spiderman Across the spider verse, Angle: 1.5707963267948966\n",
      "Movies: The Lord of the Rings The Two Towers and The Dark Knight, Angle: 1.5707963267948966\n"
     ]
    }
   ],
   "source": [
    "num_movies = len(movie_vectors)\n",
    "top_pairs = []\n",
    "for i in range(num_movies):\n",
    "    for j in range(i + 1, num_movies):\n",
    "        angle = angle_between_vectors(movie_vectors[i], movie_vectors[j])\n",
    "        top_pairs.append((data['movie'][i], data['movie'][j], angle))\n",
    "\n",
    "top_pairs.sort(key=lambda x: x[2][0])  \n",
    "top_3_pairs = top_pairs[:3]\n",
    "\n",
    "for pair in top_3_pairs:\n",
    "    movie_i,movie_j, angle = pair\n",
    "    print(f\"Movies: {pair[0]} and {pair[1]}, Angle: {pair[2][0]}\")"
   ]
  }
 ],
 "metadata": {
  "kernelspec": {
   "display_name": "Python 3",
   "language": "python",
   "name": "python3"
  },
  "language_info": {
   "codemirror_mode": {
    "name": "ipython",
    "version": 3
   },
   "file_extension": ".py",
   "mimetype": "text/x-python",
   "name": "python",
   "nbconvert_exporter": "python",
   "pygments_lexer": "ipython3",
   "version": "3.9.17"
  },
  "orig_nbformat": 4
 },
 "nbformat": 4,
 "nbformat_minor": 2
}
